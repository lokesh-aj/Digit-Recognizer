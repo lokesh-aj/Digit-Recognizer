{
  "nbformat": 4,
  "nbformat_minor": 0,
  "metadata": {
    "colab": {
      "provenance": []
    },
    "kernelspec": {
      "name": "python3",
      "display_name": "Python 3"
    },
    "language_info": {
      "name": "python"
    }
  },
  "cells": [
    {
      "cell_type": "code",
      "execution_count": 14,
      "metadata": {
        "id": "QqZNEM1XbSx1"
      },
      "outputs": [],
      "source": [
        "import numpy as np\n",
        "import pandas as pd\n",
        "from matplotlib import pyplot as plt\n"
      ]
    },
    {
      "cell_type": "code",
      "source": [
        "data = pd.read_csv('/content/train.csv')\n",
        "data = np.array(data)\n",
        "m, n = data.shape\n",
        "np.random.shuffle(data)\n"
      ],
      "metadata": {
        "id": "InZmIojabrlZ"
      },
      "execution_count": 15,
      "outputs": []
    },
    {
      "cell_type": "code",
      "source": [
        "data_dev = data[0:1000].T\n",
        "Y_dev = data_dev[0]\n",
        "X_dev = data_dev[1:n] / 255\n"
      ],
      "metadata": {
        "id": "4dN9AIoCf1uu"
      },
      "execution_count": 16,
      "outputs": []
    },
    {
      "cell_type": "code",
      "source": [
        "data_train = data[1000:m].T\n",
        "Y_train = data_train[0]\n",
        "X_train = data_train[1:n] / 255\n",
        "_, m_train = X_train.shape"
      ],
      "metadata": {
        "id": "uCBzmGCtf6UU"
      },
      "execution_count": 17,
      "outputs": []
    },
    {
      "cell_type": "code",
      "source": [
        "def init_params():\n",
        "    W1 = np.random.rand(10, 784) - 0.5\n",
        "    b1 = np.random.rand(10, 1) - 0.5\n",
        "    W2 = np.random.rand(10, 10) - 0.5\n",
        "    b2 = np.random.rand(10, 1) - 0.5\n",
        "    return W1, b1, W2, b2"
      ],
      "metadata": {
        "id": "RwciCu9dgCwS"
      },
      "execution_count": 18,
      "outputs": []
    },
    {
      "cell_type": "code",
      "source": [
        "def ReLU(Z):\n",
        "    return np.maximum(Z, 0)\n",
        "\n",
        "def softmax(Z):\n",
        "    return np.exp(Z) / np.sum(np.exp(Z), axis=0, keepdims=True)\n",
        "\n",
        "# Forward propagation\n",
        "def forward_prop(W1, b1, W2, b2, X):\n",
        "    Z1 = W1.dot(X) + b1\n",
        "    A1 = ReLU(Z1)\n",
        "    Z2 = W2.dot(A1) + b2\n",
        "    A2 = softmax(Z2)\n",
        "    return Z1, A1, Z2, A2\n",
        "\n",
        "# Derivatives\n",
        "def ReLU_deriv(Z):\n",
        "    return Z > 0\n",
        "\n",
        "def one_hot(Y):\n",
        "    one_hot_Y = np.zeros((Y.size, Y.max() + 1))\n",
        "    one_hot_Y[np.arange(Y.size), Y] = 1\n",
        "    return one_hot_Y.T\n",
        "\n",
        "# Backward propagation\n",
        "def backward_prop(Z1, A1, Z2, A2, W1, W2, X, Y):\n",
        "    m = X.shape[1]\n",
        "    one_hot_Y = one_hot(Y)\n",
        "    dZ2 = A2 - one_hot_Y\n",
        "    dW2 = 1 / m * dZ2.dot(A1.T)\n",
        "    db2 = 1 / m * np.sum(dZ2, axis=1, keepdims=True)\n",
        "    dZ1 = W2.T.dot(dZ2) * ReLU_deriv(Z1)\n",
        "    dW1 = 1 / m * dZ1.dot(X.T)\n",
        "    db1 = 1 / m * np.sum(dZ1, axis=1, keepdims=True)\n",
        "    return dW1, db1, dW2, db2\n",
        "\n",
        "# Update parameters\n",
        "def update_params(W1, b1, W2, b2, dW1, db1, dW2, db2, alpha):\n",
        "    W1 -= alpha * dW1\n",
        "    b1 -= alpha * db1\n",
        "    W2 -= alpha * dW2\n",
        "    b2 -= alpha * db2\n",
        "    return W1, b1, W2, b2\n",
        "\n",
        "# Predictions and accuracy\n",
        "def get_predictions(A2):\n",
        "    return np.argmax(A2, axis=0)\n",
        "\n",
        "def get_accuracy(predictions, Y):\n",
        "    print(predictions, Y)\n",
        "    return np.sum(predictions == Y) / Y.size\n",
        "\n",
        "# Gradient descent\n",
        "def gradient_descent(X, Y, alpha, iterations):\n",
        "    W1, b1, W2, b2 = init_params()\n",
        "    for i in range(iterations):\n",
        "        Z1, A1, Z2, A2 = forward_prop(W1, b1, W2, b2, X)\n",
        "        dW1, db1, dW2, db2 = backward_prop(Z1, A1, Z2, A2, W1, W2, X, Y)\n",
        "        W1, b1, W2, b2 = update_params(W1, b1, W2, b2, dW1, db1, dW2, db2, alpha)\n",
        "\n",
        "        if i % 10 == 0:\n",
        "            print(\"Iteration:\", i)\n",
        "            predictions = get_predictions(A2)\n",
        "            print(\"Accuracy:\", get_accuracy(predictions, Y))\n",
        "\n",
        "    return W1, b1, W2, b2"
      ],
      "metadata": {
        "id": "2dLcTrQwl4GI"
      },
      "execution_count": 19,
      "outputs": []
    },
    {
      "cell_type": "code",
      "source": [
        "W1, b1, W2, b2 = gradient_descent(X_train, Y_train, 0.10, 500)"
      ],
      "metadata": {
        "colab": {
          "base_uri": "https://localhost:8080/"
        },
        "id": "UnJz5YDpoKIS",
        "outputId": "f1954209-554b-454a-a2a3-5250a6d9fb92"
      },
      "execution_count": 28,
      "outputs": [
        {
          "output_type": "stream",
          "name": "stdout",
          "text": [
            "Iteration: 0\n",
            "[5 5 9 ... 9 9 5] [0 9 9 ... 1 1 4]\n",
            "Accuracy: 0.11214634146341464\n",
            "Iteration: 10\n",
            "[2 9 7 ... 7 7 7] [0 9 9 ... 1 1 4]\n",
            "Accuracy: 0.18758536585365854\n",
            "Iteration: 20\n",
            "[2 9 7 ... 7 7 4] [0 9 9 ... 1 1 4]\n",
            "Accuracy: 0.2530487804878049\n",
            "Iteration: 30\n",
            "[0 9 7 ... 7 7 4] [0 9 9 ... 1 1 4]\n",
            "Accuracy: 0.30529268292682926\n",
            "Iteration: 40\n",
            "[0 8 7 ... 7 7 4] [0 9 9 ... 1 1 4]\n",
            "Accuracy: 0.35573170731707315\n",
            "Iteration: 50\n",
            "[0 8 7 ... 1 1 4] [0 9 9 ... 1 1 4]\n",
            "Accuracy: 0.41153658536585364\n",
            "Iteration: 60\n",
            "[5 8 7 ... 1 1 4] [0 9 9 ... 1 1 4]\n",
            "Accuracy: 0.47073170731707314\n",
            "Iteration: 70\n",
            "[5 8 7 ... 1 1 4] [0 9 9 ... 1 1 4]\n",
            "Accuracy: 0.5168780487804878\n",
            "Iteration: 80\n",
            "[5 8 7 ... 1 1 4] [0 9 9 ... 1 1 4]\n",
            "Accuracy: 0.5535609756097561\n",
            "Iteration: 90\n",
            "[5 8 7 ... 1 1 9] [0 9 9 ... 1 1 4]\n",
            "Accuracy: 0.5853658536585366\n",
            "Iteration: 100\n",
            "[5 9 1 ... 1 1 9] [0 9 9 ... 1 1 4]\n",
            "Accuracy: 0.6151219512195122\n",
            "Iteration: 110\n",
            "[5 9 1 ... 1 1 9] [0 9 9 ... 1 1 4]\n",
            "Accuracy: 0.6395121951219512\n",
            "Iteration: 120\n",
            "[5 9 1 ... 1 1 9] [0 9 9 ... 1 1 4]\n",
            "Accuracy: 0.6615853658536586\n",
            "Iteration: 130\n",
            "[5 9 1 ... 1 1 9] [0 9 9 ... 1 1 4]\n",
            "Accuracy: 0.6788536585365854\n",
            "Iteration: 140\n",
            "[5 9 1 ... 1 1 9] [0 9 9 ... 1 1 4]\n",
            "Accuracy: 0.6946585365853658\n",
            "Iteration: 150\n",
            "[5 9 1 ... 1 1 9] [0 9 9 ... 1 1 4]\n",
            "Accuracy: 0.7084146341463414\n",
            "Iteration: 160\n",
            "[5 9 1 ... 1 1 9] [0 9 9 ... 1 1 4]\n",
            "Accuracy: 0.7207560975609756\n",
            "Iteration: 170\n",
            "[5 9 1 ... 1 1 9] [0 9 9 ... 1 1 4]\n",
            "Accuracy: 0.732\n",
            "Iteration: 180\n",
            "[5 9 7 ... 1 1 9] [0 9 9 ... 1 1 4]\n",
            "Accuracy: 0.7419024390243902\n",
            "Iteration: 190\n",
            "[5 9 7 ... 1 1 9] [0 9 9 ... 1 1 4]\n",
            "Accuracy: 0.7516341463414634\n",
            "Iteration: 200\n",
            "[5 9 7 ... 1 1 9] [0 9 9 ... 1 1 4]\n",
            "Accuracy: 0.7604146341463415\n",
            "Iteration: 210\n",
            "[5 9 7 ... 1 1 9] [0 9 9 ... 1 1 4]\n",
            "Accuracy: 0.7677560975609756\n",
            "Iteration: 220\n",
            "[5 9 7 ... 1 1 8] [0 9 9 ... 1 1 4]\n",
            "Accuracy: 0.774390243902439\n",
            "Iteration: 230\n",
            "[5 4 7 ... 1 1 8] [0 9 9 ... 1 1 4]\n",
            "Accuracy: 0.7800243902439025\n",
            "Iteration: 240\n",
            "[5 4 7 ... 1 1 8] [0 9 9 ... 1 1 4]\n",
            "Accuracy: 0.7851219512195122\n",
            "Iteration: 250\n",
            "[5 4 7 ... 1 1 8] [0 9 9 ... 1 1 4]\n",
            "Accuracy: 0.7895121951219513\n",
            "Iteration: 260\n",
            "[5 4 7 ... 1 1 8] [0 9 9 ... 1 1 4]\n",
            "Accuracy: 0.7946829268292683\n",
            "Iteration: 270\n",
            "[5 4 7 ... 1 1 8] [0 9 9 ... 1 1 4]\n",
            "Accuracy: 0.7991707317073171\n",
            "Iteration: 280\n",
            "[5 4 7 ... 1 1 8] [0 9 9 ... 1 1 4]\n",
            "Accuracy: 0.8030731707317074\n",
            "Iteration: 290\n",
            "[0 4 7 ... 1 1 8] [0 9 9 ... 1 1 4]\n",
            "Accuracy: 0.8062926829268293\n",
            "Iteration: 300\n",
            "[0 4 7 ... 1 1 8] [0 9 9 ... 1 1 4]\n",
            "Accuracy: 0.8091219512195122\n",
            "Iteration: 310\n",
            "[0 4 7 ... 1 1 8] [0 9 9 ... 1 1 4]\n",
            "Accuracy: 0.8121463414634147\n",
            "Iteration: 320\n",
            "[0 4 7 ... 1 1 8] [0 9 9 ... 1 1 4]\n",
            "Accuracy: 0.8150243902439024\n",
            "Iteration: 330\n",
            "[0 4 7 ... 1 1 8] [0 9 9 ... 1 1 4]\n",
            "Accuracy: 0.8176585365853658\n",
            "Iteration: 340\n",
            "[0 4 7 ... 1 1 8] [0 9 9 ... 1 1 4]\n",
            "Accuracy: 0.8206585365853658\n",
            "Iteration: 350\n",
            "[0 4 7 ... 1 1 8] [0 9 9 ... 1 1 4]\n",
            "Accuracy: 0.823170731707317\n",
            "Iteration: 360\n",
            "[0 4 7 ... 1 1 8] [0 9 9 ... 1 1 4]\n",
            "Accuracy: 0.825\n",
            "Iteration: 370\n",
            "[0 4 7 ... 1 1 8] [0 9 9 ... 1 1 4]\n",
            "Accuracy: 0.8273414634146341\n",
            "Iteration: 380\n",
            "[0 4 7 ... 1 1 8] [0 9 9 ... 1 1 4]\n",
            "Accuracy: 0.8293414634146341\n",
            "Iteration: 390\n",
            "[0 4 7 ... 1 1 8] [0 9 9 ... 1 1 4]\n",
            "Accuracy: 0.831\n",
            "Iteration: 400\n",
            "[0 4 7 ... 1 1 8] [0 9 9 ... 1 1 4]\n",
            "Accuracy: 0.8332439024390244\n",
            "Iteration: 410\n",
            "[0 4 7 ... 1 1 8] [0 9 9 ... 1 1 4]\n",
            "Accuracy: 0.834780487804878\n",
            "Iteration: 420\n",
            "[0 4 7 ... 1 1 8] [0 9 9 ... 1 1 4]\n",
            "Accuracy: 0.836170731707317\n",
            "Iteration: 430\n",
            "[0 4 7 ... 1 1 8] [0 9 9 ... 1 1 4]\n",
            "Accuracy: 0.8379268292682926\n",
            "Iteration: 440\n",
            "[0 4 7 ... 1 1 8] [0 9 9 ... 1 1 4]\n",
            "Accuracy: 0.8389024390243902\n",
            "Iteration: 450\n",
            "[0 4 7 ... 1 1 8] [0 9 9 ... 1 1 4]\n",
            "Accuracy: 0.8400487804878048\n",
            "Iteration: 460\n",
            "[0 4 7 ... 1 1 8] [0 9 9 ... 1 1 4]\n",
            "Accuracy: 0.8413658536585366\n",
            "Iteration: 470\n",
            "[0 4 7 ... 1 1 8] [0 9 9 ... 1 1 4]\n",
            "Accuracy: 0.8429268292682927\n",
            "Iteration: 480\n",
            "[0 4 7 ... 1 1 8] [0 9 9 ... 1 1 4]\n",
            "Accuracy: 0.8441463414634146\n",
            "Iteration: 490\n",
            "[0 4 7 ... 1 1 8] [0 9 9 ... 1 1 4]\n",
            "Accuracy: 0.8453170731707317\n"
          ]
        }
      ]
    },
    {
      "cell_type": "code",
      "source": [
        "def make_predictions(X, W1, b1, W2, b2):\n",
        "    _, _, _, A2 = forward_prop(W1, b1, W2, b2, X)\n",
        "    predictions = get_predictions(A2)\n",
        "    return predictions\n",
        "\n",
        "def test_prediction(index, W1, b1, W2, b2):\n",
        "    # Select the specific image and label\n",
        "    current_image = X_train[:, index, None]  # Shape (784, 1)\n",
        "    prediction = make_predictions(current_image, W1, b1, W2, b2)\n",
        "    label = Y_train[index]\n",
        "\n",
        "    print(\"Prediction:\", prediction)\n",
        "    print(\"Label:\", label)\n",
        "\n",
        "    # Reshape and display the image\n",
        "    current_image = current_image.reshape((28, 28)) * 255\n",
        "    plt.gray()\n",
        "    plt.imshow(current_image, interpolation='nearest')\n",
        "    plt.show()"
      ],
      "metadata": {
        "id": "6JdA5izTqwYa"
      },
      "execution_count": 26,
      "outputs": []
    },
    {
      "cell_type": "code",
      "source": [
        "test_prediction(0, W1, b1, W2, b2)"
      ],
      "metadata": {
        "colab": {
          "base_uri": "https://localhost:8080/",
          "height": 465
        },
        "id": "FGgQZVotr6so",
        "outputId": "f4f1e311-6559-4ac5-8fa7-16d11d262f1c"
      },
      "execution_count": 30,
      "outputs": [
        {
          "output_type": "stream",
          "name": "stdout",
          "text": [
            "Prediction: [0]\n",
            "Label: 0\n"
          ]
        },
        {
          "output_type": "display_data",
          "data": {
            "text/plain": [
              "<Figure size 640x480 with 1 Axes>"
            ],
            "image/png": "[encoded data removed]"
          },
          "metadata": {}
        }
      ]
    },
    {
      "cell_type": "code",
      "source": [
        "test_prediction(4, W1, b1, W2, b2)\n",
        "test_prediction(5, W1, b1, W2, b2)\n",
        "test_prediction(6, W1, b1, W2, b2)\n",
        "test_prediction(7, W1, b1, W2, b2)"
      ],
      "metadata": {
        "id": "v-s36gzNtEH0",
        "outputId": "a3d6fc1c-77cd-44ab-8887-d00e3d45d263",
        "colab": {
          "base_uri": "https://localhost:8080/",
          "height": 1000
        }
      },
      "execution_count": 31,
      "outputs": [
        {
          "output_type": "stream",
          "name": "stdout",
          "text": [
            "Prediction: [6]\n",
            "Label: 6\n"
          ]
        },
        {
          "output_type": "display_data",
          "data": {
            "text/plain": [
              "<Figure size 640x480 with 1 Axes>"
            ],
            "image/png": "[encoded data removed]"
          },
          "metadata": {}
        },
        {
          "output_type": "stream",
          "name": "stdout",
          "text": [
            "Prediction: [8]\n",
            "Label: 8\n"
          ]
        },
        {
          "output_type": "display_data",
          "data": {
            "text/plain": [
              "<Figure size 640x480 with 1 Axes>"
            ],
            "image/png": "[encoded data removed]"
          },
          "metadata": {}
        },
        {
          "output_type": "stream",
          "name": "stdout",
          "text": [
            "Prediction: [4]\n",
            "Label: 4\n"
          ]
        },
        {
          "output_type": "display_data",
          "data": {
            "text/plain": [
              "<Figure size 640x480 with 1 Axes>"
            ],
            "image/png": "[encoded data removed]"
          },
          "metadata": {}
        },
        {
          "output_type": "stream",
          "name": "stdout",
          "text": [
            "Prediction: [0]\n",
            "Label: 0\n"
          ]
        },
        {
          "output_type": "display_data",
          "data": {
            "text/plain": [
              "<Figure size 640x480 with 1 Axes>"
            ],
            "image/png": "[encoded data removed]"
          },
          "metadata": {}
        }
      ]
    }
  ]
}